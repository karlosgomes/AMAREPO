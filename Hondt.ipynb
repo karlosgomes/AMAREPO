{
  "nbformat": 4,
  "nbformat_minor": 0,
  "metadata": {
    "colab": {
      "provenance": [],
      "include_colab_link": true
    },
    "kernelspec": {
      "name": "python3",
      "display_name": "Python 3"
    },
    "language_info": {
      "name": "python"
    }
  },
  "cells": [
    {
      "cell_type": "markdown",
      "metadata": {
        "id": "view-in-github",
        "colab_type": "text"
      },
      "source": [
        "<a href=\"https://colab.research.google.com/github/karlosgomes/AMAREPO/blob/master/Hondt.ipynb\" target=\"_parent\"><img src=\"https://colab.research.google.com/assets/colab-badge.svg\" alt=\"Open In Colab\"/></a>"
      ]
    },
    {
      "cell_type": "markdown",
      "source": [
        "# **Método de Hondt**\n",
        "Abaixo, em código Python, está um script que permite fazer a conversão de votos em mandatos com o **método de Hondt**, na situação particular das eleições regionais da Madeira de 2023.\n",
        "\n",
        "1.  Executa-o e confirma o resultado.\n",
        "2.   Altera o código de forma a obteres a conversão de votos em mandatos nas eleições de 2019, na mesma região.\n",
        "3.   Altera o código de forma a obteres a conversão de votos em mandatos nas eleições de 2023, pelo **método de Saint-Laguë**.\n",
        "\n",
        "**Nota**: a lista ***quocientes*** contém a fórmula $\\;\\dfrac{votos}{s+1}\\;$ que permite obter os quocientes da divisão dos votos dos partidos pelos divisores $\\{1,2,3,\\cdots\\}.$ Na alteração que vais fazer ao código para implementares o método de Saint-Laguë, essa fórmula fica $\\;\\dfrac{votos}{2s+1}\\;$. Qual é o significado desta mudança no denominador?\n",
        "\n",
        "\n",
        "---\n",
        "\n"
      ],
      "metadata": {
        "id": "s-Zy79_HvQ8m"
      }
    },
    {
      "cell_type": "code",
      "source": [
        "def metodo_hondt(votos, lugares):\n",
        "    resultados = [0] * len(votos)\n",
        "    for i in range(lugares):\n",
        "        quocientes = [voto/(resultados[j]+1) for j, voto in enumerate(votos)]\n",
        "        indice_max = quocientes.index(max(quocientes))\n",
        "        resultados[indice_max] += 1\n",
        "    return resultados\n",
        "\n",
        "# Exemplo da RA Madeira\n",
        "partidos = [\"PSD\", \"PS\", \"JPP\", \"CH\", \"CDU\", \"IL\", \"PAN\", \"BE\", \"PTP\"]\n",
        "votos = [58399,28844,14933,12028,3677,3555,3046,3036,1369]\n",
        "lugares = 47\n",
        "####\n",
        "resultados = metodo_hondt(votos, lugares)\n",
        "\n",
        "for i, j in zip(partidos,resultados):\n",
        "    print(f\"{i} obteve {j} mandatos.\")"
      ],
      "metadata": {
        "id": "w4VZcQ3JhwiI"
      },
      "execution_count": null,
      "outputs": []
    }
  ]
}